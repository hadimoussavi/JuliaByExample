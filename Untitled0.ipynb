{
  "nbformat": 4,
  "nbformat_minor": 0,
  "metadata": {
    "colab": {
      "name": "Untitled0.ipynb",
      "provenance": [],
      "collapsed_sections": [],
      "include_colab_link": true
    },
    "kernelspec": {
      "name": "python3",
      "display_name": "Python 3"
    }
  },
  "cells": [
    {
      "cell_type": "markdown",
      "metadata": {
        "id": "view-in-github",
        "colab_type": "text"
      },
      "source": [
        "<a href=\"https://colab.research.google.com/github/hadimoussavi/JuliaByExample/blob/master/Untitled0.ipynb\" target=\"_parent\"><img src=\"https://colab.research.google.com/assets/colab-badge.svg\" alt=\"Open In Colab\"/></a>"
      ]
    },
    {
      "cell_type": "code",
      "metadata": {
        "id": "PKddllAtvVGI",
        "colab_type": "code",
        "colab": {
          "base_uri": "https://localhost:8080/",
          "height": 68
        },
        "outputId": "c44cecac-e3ab-4b89-e500-0afb400be3ba"
      },
      "source": [
        "import string, random\n",
        "def random_chars(n=1, chars=string.ascii_uppercase):\n",
        "  for i in range(n):\n",
        "    yield random.choice(chars)\n",
        "def lcs_recursive(xlist, ylist):\n",
        "  if not xlist or not ylist:\n",
        "    return[]\n",
        "  x, xs, y, ys, = xlist[0], xlist[1:], ylist[0], ylist[1:]\n",
        "  if x == y:\n",
        "    return [x] + lcs_recursive(xs, ys)\n",
        "  else:\n",
        "    return max(lcs_recursive(xlist, ys), lcs_recursive(xs, ylist), key=len)\n",
        "s1 = [c for c in random_chars(n=10, chars='ATGC')]\n",
        "s2 = [c for c in random_chars(n=10, chars='ATGC')]\n",
        "print ('s1 =', s1)\n",
        "print('s2 =', s2)\n",
        "print(lcs_recursive(s1, s2))             "
      ],
      "execution_count": 13,
      "outputs": [
        {
          "output_type": "stream",
          "text": [
            "s1 = ['G', 'G', 'C', 'C', 'C', 'C', 'C', 'T', 'G', 'A']\n",
            "s2 = ['C', 'T', 'T', 'T', 'A', 'G', 'G', 'G', 'T', 'C']\n",
            "['G', 'G', 'C']\n"
          ],
          "name": "stdout"
        }
      ]
    }
  ]
}