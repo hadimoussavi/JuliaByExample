{
  "nbformat": 4,
  "nbformat_minor": 0,
  "metadata": {
    "colab": {
      "name": "listComprehension.ipynb",
      "provenance": [],
      "authorship_tag": "ABX9TyOMPvbM48Bg+F66EH3QPC5X",
      "include_colab_link": true
    },
    "kernelspec": {
      "name": "python3",
      "display_name": "Python 3"
    }
  },
  "cells": [
    {
      "cell_type": "markdown",
      "metadata": {
        "id": "view-in-github",
        "colab_type": "text"
      },
      "source": [
        "<a href=\"https://colab.research.google.com/github/hadimoussavi/JuliaByExample/blob/master/listComprehension.ipynb\" target=\"_parent\"><img src=\"https://colab.research.google.com/assets/colab-badge.svg\" alt=\"Open In Colab\"/></a>"
      ]
    },
    {
      "cell_type": "code",
      "metadata": {
        "id": "rbst0bay5Grr",
        "colab_type": "code",
        "colab": {
          "base_uri": "https://localhost:8080/",
          "height": 51
        },
        "outputId": "5f1b2b2d-51c0-413d-a088-fefd5513ff2b"
      },
      "source": [
        "actor = {\"name\": \"John Cleese\", \"rank\": \"awesome\"}\n",
        "\n",
        "def get_last_name():\n",
        "    return actor[\"name\"].split()[1]\n",
        "\n",
        "get_last_name()\n",
        "print(\"All exceptions caught! Good job!\")\n",
        "print(\"The actor's last name is %s\" % get_last_name())"
      ],
      "execution_count": 4,
      "outputs": [
        {
          "output_type": "stream",
          "text": [
            "All exceptions caught! Good job!\n",
            "The actor's last name is Cleese\n"
          ],
          "name": "stdout"
        }
      ]
    },
    {
      "cell_type": "code",
      "metadata": {
        "id": "hfTaYHt_5-aP",
        "colab_type": "code",
        "colab": {}
      },
      "source": [
        ""
      ],
      "execution_count": 0,
      "outputs": []
    },
    {
      "cell_type": "code",
      "metadata": {
        "id": "v7Ll_lNN5_gY",
        "colab_type": "code",
        "colab": {}
      },
      "source": [
        ""
      ],
      "execution_count": 0,
      "outputs": []
    }
  ]
}